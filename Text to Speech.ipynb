{
 "cells": [
  {
   "cell_type": "markdown",
   "metadata": {},
   "source": [
    "# Text to Speech Converter"
   ]
  },
  {
   "cell_type": "code",
   "execution_count": 1,
   "metadata": {},
   "outputs": [
    {
     "name": "stderr",
     "output_type": "stream",
     "text": [
      "[nltk_data] Downloading package punkt to\n",
      "[nltk_data]     C:\\Users\\hp\\AppData\\Roaming\\nltk_data...\n",
      "[nltk_data]   Package punkt is already up-to-date!\n"
     ]
    },
    {
     "data": {
      "text/plain": [
       "True"
      ]
     },
     "execution_count": 1,
     "metadata": {},
     "output_type": "execute_result"
    }
   ],
   "source": [
    "from gtts import gTTS\n",
    "#To extract information from articles and newspaper\n",
    "from newspaper import Article\n",
    "import nltk\n",
    "import os\n",
    "#punkt sentence tokenizer which divides text into list of sentences by using unsupervised algorithm\n",
    "nltk.download(\"punkt\")"
   ]
  },
  {
   "cell_type": "markdown",
   "metadata": {},
   "source": [
    "Fetch and Parse the article"
   ]
  },
  {
   "cell_type": "code",
   "execution_count": 5,
   "metadata": {},
   "outputs": [],
   "source": [
    "speech=Article(url=\"https://datascience.berkeley.edu/about/what-is-data-science/\")\n",
    "speech.download()\n",
    "speech.parse()"
   ]
  },
  {
   "cell_type": "markdown",
   "metadata": {},
   "source": [
    "Store text using NLP"
   ]
  },
  {
   "cell_type": "code",
   "execution_count": 6,
   "metadata": {},
   "outputs": [],
   "source": [
    "speech.nlp()\n",
    "my_text=speech.text"
   ]
  },
  {
   "cell_type": "code",
   "execution_count": 7,
   "metadata": {},
   "outputs": [
    {
     "name": "stdout",
     "output_type": "stream",
     "text": [
      "What is Data Science?\n",
      "\n",
      "Data science continues to evolve as one of the most promising and in-demand career paths for skilled professionals. Today, successful data professionals understand that they must advance past the traditional skills of analyzing large amounts of data, data mining, and programming skills. In order to uncover useful intelligence for their organizations, data scientists must master the full spectrum of the data science life cycle and possess a level of flexibility and understanding to maximize returns at each phase of the process.\n",
      "\n",
      "The Data Science Life Cycle\n",
      "\n",
      "The image represents the five stages of the data science life cycle: Capture, (data acquisition, data entry, signal reception, data extraction); Maintain (data warehousing, data cleansing, data staging, data processing, data architecture); Process (data mining, clustering/classification, data modeling, data summarization); Analyze (exploratory/confirmatory, predictive analysis, regression, text mining, qualitative analysis); Communicate (data reporting, data visualization, business intelligence, decision making).\n",
      "\n",
      "The term “data scientist” was coined as recently as 2008 when companies realized the need for data professionals who are skilled in organizing and analyzing massive amounts of data. 1 In a 2009 McKinsey&Company article, Hal Varian, Google's chief economist and UC Berkeley professor of information sciences, business, and economics, predicted the importance of adapting to technology’s influence and reconfiguration of different industries. 2\n",
      "\n",
      "“The ability to take data — to be able to understand it, to process it, to extract value from it, to visualize it, to communicate it — that’s going to be a hugely important skill in the next decades.” - Hal Varian, chief economist at Google and UC Berkeley professor of information sciences, business, and economics 3\n",
      "\n",
      "Effective data scientists are able to identify relevant questions, collect data from a multitude of different data sources, organize the information, translate results into solutions, and communicate their findings in a way that positively affects business decisions. These skills are required in almost all industries, causing skilled data scientists to be increasingly valuable to companies.\n",
      "\n",
      "Advance Your Career with an Online Short Course Take the Data Science Essentials online short course and earn a certificate\n",
      "\n",
      "from the UC Berkeley School of Information. Learn About the Online Short Course\n",
      "\n",
      "What Does a Data Scientist Do?\n",
      "\n",
      "In the past decade, data scientists have become necessary assets and are present in almost all organizations. These professionals are well-rounded, data-driven individuals with high-level technical skills who are capable of building complex quantitative algorithms to organize and synthesize large amounts of information used to answer questions and drive strategy in their organization. This is coupled with the experience in communication and leadership needed to deliver tangible results to various stakeholders across an organization or business.\n",
      "\n",
      "Data scientists need to be curious and result-oriented, with exceptional industry-specific knowledge and communication skills that allow them to explain highly technical results to their non-technical counterparts. They possess a strong quantitative background in statistics and linear algebra as well as programming knowledge with focuses in data warehousing, mining, and modeling to build and analyze algorithms.\n",
      "\n",
      "They must also be able to utilize key technical tools and skills, including:\n",
      "\n",
      "R Python Apache Hadoop MapReduce Apache Spark NoSQL databases Cloud computing D3 Apache Pig Tableau iPython notebooks GitHub\n",
      "\n",
      "Why Become a Data Scientist?\n",
      "\n",
      "Glassdoor ranked data scientist as the #1 Best Job in America in 2018 for the third year in a row. 4 As increasing amounts of data become more accessible, large tech companies are no longer the only ones in need of data scientists. The growing demand for data science professionals across industries, big and small, is being challenged by a shortage of qualified candidates available to fill the open positions.\n",
      "\n",
      "The need for data scientists shows no sign of slowing down in the coming years. LinkedIn listed data scientist as one of the most promising jobs in 2017 and 2018, along with multiple data-science-related skills as the most in-demand by companies. 5\n",
      "\n",
      "The statistics listed below represent the significant and growing demand for data scientists.\n",
      "\n",
      "28% Demand Increase by 2020\n",
      "\n",
      "4,524 Number of Job Openings\n",
      "\n",
      "$120,931 Average Base Salary\n",
      "\n",
      "#1 Best Job in America 2016, 2017, 2018\n",
      "\n",
      "Sources: Glassdoor and Forbes\n",
      "\n",
      "Request Information\n",
      "\n",
      "Where Do You Fit in Data Science?\n",
      "\n",
      "Data is everywhere and expansive. A variety of terms related to mining, cleaning, analyzing, and interpreting data are often used interchangeably, but they can actually involve different skill sets and complexity of data.\n",
      "\n",
      "Data Scientist\n",
      "\n",
      "Data scientists examine which questions need answering and where to find the related data. They have business acumen and analytical skills as well as the ability to mine, clean, and present data. Businesses use data scientists to source, manage, and analyze large amounts of unstructured data. Results are then synthesized and communicated to key stakeholders to drive strategic decision-making in the organization.\n",
      "\n",
      "Skills needed: Programming skills (SAS, R, Python), statistical and mathematical skills, storytelling and data visualization, Hadoop, SQL, machine learning\n",
      "\n",
      "Data Analyst\n",
      "\n",
      "Data analysts bridge the gap between data scientists and business analysts. They are provided with the questions that need answering from an organization and then organize and analyze data to find results that align with high-level business strategy. Data analysts are responsible for translating technical analysis to qualitative action items and effectively communicating their findings to diverse stakeholders.\n",
      "\n",
      "Skills needed: Programming skills (SAS, R, Python), statistical and mathematical skills, data wrangling, data visualization\n",
      "\n",
      "Data Engineer\n",
      "\n",
      "Data engineers manage exponential amounts of rapidly changing data. They focus on the development, deployment, management, and optimization of data pipelines and infrastructure to transform and transfer data to data scientists for querying.\n",
      "\n",
      "Skills needed: Programming languages (Java, Scala), NoSQL databases (MongoDB, Cassandra DB), frameworks (Apache Hadoop)\n",
      "\n",
      "Data Science Career Outlook and Salary Opportunities\n",
      "\n",
      "Data science professionals are rewarded for their highly technical skill set with competitive salaries and great job opportunities at big and small companies in most industries. With over 4,500 open positions listed on Glassdoor, data science professionals with the appropriate experience and education have the opportunity to make their mark in some of the most forward-thinking companies in the world.6\n",
      "\n",
      "Below are the average base salaries for the following positions: 7\n",
      "\n",
      "Data analyst: $65,470\n",
      "\n",
      "Data scientist: $120,931\n",
      "\n",
      "Senior data scientist: $141,257\n",
      "\n",
      "Data engineer: $137,776\n",
      "\n",
      "Gaining specialized skills within the data science field can distinguish data scientists even further. For example, machine learning experts utilize high-level programming skills to create algorithms that continuously gather data and automatically adjust their function to be more effective.\n"
     ]
    }
   ],
   "source": [
    "print(my_text)"
   ]
  },
  {
   "cell_type": "code",
   "execution_count": 8,
   "metadata": {},
   "outputs": [],
   "source": [
    "language=\"en\" "
   ]
  },
  {
   "cell_type": "markdown",
   "metadata": {},
   "source": [
    "Google Text-to-Speech will be saved"
   ]
  },
  {
   "cell_type": "code",
   "execution_count": 9,
   "metadata": {},
   "outputs": [],
   "source": [
    "obj=gTTS(text=my_text,lang=language,slow=False)\n",
    "obj.save(\"C:/Users/hp/Desktop//Text-Speech/What_is_Data_Science_speech.mp3\")"
   ]
  },
  {
   "cell_type": "markdown",
   "metadata": {},
   "source": [
    "OS will play the file"
   ]
  },
  {
   "cell_type": "code",
   "execution_count": null,
   "metadata": {},
   "outputs": [],
   "source": [
    "os.system(\"C:/Users/hp/Desktop//Text-Speech/What_is_Data_Science_speech.mp3 \")"
   ]
  }
 ],
 "metadata": {
  "kernelspec": {
   "display_name": "Python 3",
   "language": "python",
   "name": "python3"
  },
  "language_info": {
   "codemirror_mode": {
    "name": "ipython",
    "version": 3
   },
   "file_extension": ".py",
   "mimetype": "text/x-python",
   "name": "python",
   "nbconvert_exporter": "python",
   "pygments_lexer": "ipython3",
   "version": "3.7.6"
  }
 },
 "nbformat": 4,
 "nbformat_minor": 2
}
